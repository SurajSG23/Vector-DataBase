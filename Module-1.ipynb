{
 "cells": [
  {
   "cell_type": "markdown",
   "id": "4f316ae1-eaa4-4b53-b634-9396b7dbaaa4",
   "metadata": {},
   "source": [
    "# Pinecone Setup"
   ]
  },
  {
   "cell_type": "code",
   "execution_count": 1,
   "id": "a51450be-1a31-467f-ac1d-44e353b8c804",
   "metadata": {},
   "outputs": [],
   "source": [
    "import pinecone\n",
    "from pinecone import Pinecone, ServerlessSpec\n",
    "import os\n",
    "import config"
   ]
  },
  {
   "cell_type": "code",
   "execution_count": 2,
   "id": "886116bb-5b8c-4fac-a75d-f66a9514c6b2",
   "metadata": {},
   "outputs": [],
   "source": [
    "pc = Pinecone(api_key = config.PINECONE_API_KEY, environment = config.PINECONE_ENV)"
   ]
  },
  {
   "cell_type": "code",
   "execution_count": 9,
   "id": "4ddb30eb-91e6-468c-943b-641805e1b405",
   "metadata": {},
   "outputs": [
    {
     "data": {
      "text/plain": [
       "[\n",
       "    {\n",
       "        \"name\": \"sample-db\",\n",
       "        \"metric\": \"cosine\",\n",
       "        \"host\": \"sample-db-pw4wyt0.svc.aped-4627-b74a.pinecone.io\",\n",
       "        \"spec\": {\n",
       "            \"serverless\": {\n",
       "                \"cloud\": \"aws\",\n",
       "                \"region\": \"us-east-1\"\n",
       "            }\n",
       "        },\n",
       "        \"status\": {\n",
       "            \"ready\": true,\n",
       "            \"state\": \"Ready\"\n",
       "        },\n",
       "        \"vector_type\": \"dense\",\n",
       "        \"dimension\": 3,\n",
       "        \"deletion_protection\": \"disabled\",\n",
       "        \"tags\": null\n",
       "    }\n",
       "]"
      ]
     },
     "execution_count": 9,
     "metadata": {},
     "output_type": "execute_result"
    }
   ],
   "source": [
    "pc.list_indexes()"
   ]
  },
  {
   "cell_type": "code",
   "execution_count": 19,
   "id": "dccb1a2d-9bcf-42cc-824f-541a9fbb4cb4",
   "metadata": {},
   "outputs": [
    {
     "name": "stdout",
     "output_type": "stream",
     "text": [
      "sample-db successfully deleted.\n"
     ]
    }
   ],
   "source": [
    "if index_name in [index.name for index in pc.list_indexes()]:\n",
    "    pc.delete_index(index_name)\n",
    "    print(f\"{index_name} successfully deleted.\")\n",
    "else:\n",
    "     print(f\"{index_name} not in index list.\")       "
   ]
  },
  {
   "cell_type": "code",
   "execution_count": 12,
   "id": "c0789f86-c5e4-409c-b134-be8cc774d3d6",
   "metadata": {},
   "outputs": [
    {
     "data": {
      "text/plain": [
       "[]"
      ]
     },
     "execution_count": 12,
     "metadata": {},
     "output_type": "execute_result"
    }
   ],
   "source": [
    "pc.list_indexes()"
   ]
  },
  {
   "cell_type": "markdown",
   "id": "5b7b1d21-1880-42f1-a24b-d5d132da4ed8",
   "metadata": {},
   "source": [
    "## Creating an Index"
   ]
  },
  {
   "cell_type": "code",
   "execution_count": 17,
   "id": "30d75d55-5cfa-4745-be96-c5d5fed3ec29",
   "metadata": {},
   "outputs": [],
   "source": [
    "index_name = \"sample-db\"\n",
    "dimension = 3\n",
    "metric = \"cosine\""
   ]
  },
  {
   "cell_type": "code",
   "execution_count": 20,
   "id": "27b72238-8174-4d09-a438-1d079b1ba7a4",
   "metadata": {},
   "outputs": [
    {
     "data": {
      "text/plain": [
       "{\n",
       "    \"name\": \"sample-db\",\n",
       "    \"metric\": \"cosine\",\n",
       "    \"host\": \"sample-db-pw4wyt0.svc.aped-4627-b74a.pinecone.io\",\n",
       "    \"spec\": {\n",
       "        \"serverless\": {\n",
       "            \"cloud\": \"aws\",\n",
       "            \"region\": \"us-east-1\"\n",
       "        }\n",
       "    },\n",
       "    \"status\": {\n",
       "        \"ready\": true,\n",
       "        \"state\": \"Ready\"\n",
       "    },\n",
       "    \"vector_type\": \"dense\",\n",
       "    \"dimension\": 3,\n",
       "    \"deletion_protection\": \"disabled\",\n",
       "    \"tags\": null\n",
       "}"
      ]
     },
     "execution_count": 20,
     "metadata": {},
     "output_type": "execute_result"
    }
   ],
   "source": [
    "pc.create_index(\n",
    "    name=index_name,\n",
    "    dimension=dimension,\n",
    "    metric=metric,\n",
    "    spec={\n",
    "        \"serverless\": {\n",
    "            \"cloud\": \"aws\",\n",
    "            \"region\": \"us-east-1\"\n",
    "        }\n",
    "    }\n",
    ")"
   ]
  },
  {
   "cell_type": "code",
   "execution_count": 26,
   "id": "0e654d8f-c5ce-4e6d-8d46-f985ac3f6625",
   "metadata": {},
   "outputs": [],
   "source": [
    "index_name_2 = \"sample-db-2\"\n",
    "dimension_2 = 1536\n",
    "metric_2 = \"cosine\""
   ]
  },
  {
   "cell_type": "code",
   "execution_count": 27,
   "id": "2824f86a-5c23-45c2-9baf-f3bc62647e90",
   "metadata": {},
   "outputs": [
    {
     "data": {
      "text/plain": [
       "{\n",
       "    \"name\": \"sample-db-2\",\n",
       "    \"metric\": \"cosine\",\n",
       "    \"host\": \"sample-db-2-pw4wyt0.svc.aped-4627-b74a.pinecone.io\",\n",
       "    \"spec\": {\n",
       "        \"serverless\": {\n",
       "            \"cloud\": \"aws\",\n",
       "            \"region\": \"us-east-1\"\n",
       "        }\n",
       "    },\n",
       "    \"status\": {\n",
       "        \"ready\": true,\n",
       "        \"state\": \"Ready\"\n",
       "    },\n",
       "    \"vector_type\": \"dense\",\n",
       "    \"dimension\": 1536,\n",
       "    \"deletion_protection\": \"disabled\",\n",
       "    \"tags\": null\n",
       "}"
      ]
     },
     "execution_count": 27,
     "metadata": {},
     "output_type": "execute_result"
    }
   ],
   "source": [
    "pc.create_index(\n",
    "    name=index_name_2,\n",
    "    dimension=dimension_2,\n",
    "    metric=metric_2,\n",
    "    spec={\n",
    "        \"serverless\": {\n",
    "            \"cloud\": \"aws\",\n",
    "            \"region\": \"us-east-1\"\n",
    "        }\n",
    "    }\n",
    ")"
   ]
  },
  {
   "cell_type": "code",
   "execution_count": 28,
   "id": "06fe65cc-44da-4742-b1fe-1b3861399a2c",
   "metadata": {},
   "outputs": [
    {
     "data": {
      "text/plain": [
       "[\n",
       "    {\n",
       "        \"name\": \"sample-db\",\n",
       "        \"metric\": \"cosine\",\n",
       "        \"host\": \"sample-db-pw4wyt0.svc.aped-4627-b74a.pinecone.io\",\n",
       "        \"spec\": {\n",
       "            \"serverless\": {\n",
       "                \"cloud\": \"aws\",\n",
       "                \"region\": \"us-east-1\"\n",
       "            }\n",
       "        },\n",
       "        \"status\": {\n",
       "            \"ready\": true,\n",
       "            \"state\": \"Ready\"\n",
       "        },\n",
       "        \"vector_type\": \"dense\",\n",
       "        \"dimension\": 3,\n",
       "        \"deletion_protection\": \"disabled\",\n",
       "        \"tags\": null\n",
       "    },\n",
       "    {\n",
       "        \"name\": \"sample-db-2\",\n",
       "        \"metric\": \"cosine\",\n",
       "        \"host\": \"sample-db-2-pw4wyt0.svc.aped-4627-b74a.pinecone.io\",\n",
       "        \"spec\": {\n",
       "            \"serverless\": {\n",
       "                \"cloud\": \"aws\",\n",
       "                \"region\": \"us-east-1\"\n",
       "            }\n",
       "        },\n",
       "        \"status\": {\n",
       "            \"ready\": true,\n",
       "            \"state\": \"Ready\"\n",
       "        },\n",
       "        \"vector_type\": \"dense\",\n",
       "        \"dimension\": 1536,\n",
       "        \"deletion_protection\": \"disabled\",\n",
       "        \"tags\": null\n",
       "    }\n",
       "]"
      ]
     },
     "execution_count": 28,
     "metadata": {},
     "output_type": "execute_result"
    }
   ],
   "source": [
    "pc.list_indexes()"
   ]
  },
  {
   "cell_type": "code",
   "execution_count": null,
   "id": "657150dc-1066-48fd-80b6-3f33a7bf0f14",
   "metadata": {},
   "outputs": [],
   "source": []
  }
 ],
 "metadata": {
  "kernelspec": {
   "display_name": "Python (llms_course_env)",
   "language": "python",
   "name": "llms_course_env"
  },
  "language_info": {
   "codemirror_mode": {
    "name": "ipython",
    "version": 3
   },
   "file_extension": ".py",
   "mimetype": "text/x-python",
   "name": "python",
   "nbconvert_exporter": "python",
   "pygments_lexer": "ipython3",
   "version": "3.11.13"
  }
 },
 "nbformat": 4,
 "nbformat_minor": 5
}
