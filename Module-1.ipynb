{
 "cells": [
  {
   "cell_type": "markdown",
   "id": "4f316ae1-eaa4-4b53-b634-9396b7dbaaa4",
   "metadata": {},
   "source": [
    "# Pinecone Setup"
   ]
  },
  {
   "cell_type": "code",
   "execution_count": 36,
   "id": "a51450be-1a31-467f-ac1d-44e353b8c804",
   "metadata": {},
   "outputs": [],
   "source": [
    "import pinecone\n",
    "from pinecone import Pinecone, ServerlessSpec\n",
    "import os\n",
    "import config\n",
    "from datasets import load_dataset\n",
    "from sentence_transformers import SentenceTransformer"
   ]
  },
  {
   "cell_type": "code",
   "execution_count": 2,
   "id": "886116bb-5b8c-4fac-a75d-f66a9514c6b2",
   "metadata": {},
   "outputs": [],
   "source": [
    "pc = Pinecone(api_key = config.PINECONE_API_KEY, environment = config.PINECONE_ENV)"
   ]
  },
  {
   "cell_type": "code",
   "execution_count": 9,
   "id": "4ddb30eb-91e6-468c-943b-641805e1b405",
   "metadata": {},
   "outputs": [
    {
     "data": {
      "text/plain": [
       "[\n",
       "    {\n",
       "        \"name\": \"sample-db\",\n",
       "        \"metric\": \"cosine\",\n",
       "        \"host\": \"sample-db-pw4wyt0.svc.aped-4627-b74a.pinecone.io\",\n",
       "        \"spec\": {\n",
       "            \"serverless\": {\n",
       "                \"cloud\": \"aws\",\n",
       "                \"region\": \"us-east-1\"\n",
       "            }\n",
       "        },\n",
       "        \"status\": {\n",
       "            \"ready\": true,\n",
       "            \"state\": \"Ready\"\n",
       "        },\n",
       "        \"vector_type\": \"dense\",\n",
       "        \"dimension\": 3,\n",
       "        \"deletion_protection\": \"disabled\",\n",
       "        \"tags\": null\n",
       "    }\n",
       "]"
      ]
     },
     "execution_count": 9,
     "metadata": {},
     "output_type": "execute_result"
    }
   ],
   "source": [
    "pc.list_indexes()"
   ]
  },
  {
   "cell_type": "code",
   "execution_count": 19,
   "id": "dccb1a2d-9bcf-42cc-824f-541a9fbb4cb4",
   "metadata": {},
   "outputs": [
    {
     "name": "stdout",
     "output_type": "stream",
     "text": [
      "sample-db successfully deleted.\n"
     ]
    }
   ],
   "source": [
    "if index_name in [index.name for index in pc.list_indexes()]:\n",
    "    pc.delete_index(index_name)\n",
    "    print(f\"{index_name} successfully deleted.\")\n",
    "else:\n",
    "     print(f\"{index_name} not in index list.\")       "
   ]
  },
  {
   "cell_type": "code",
   "execution_count": 12,
   "id": "c0789f86-c5e4-409c-b134-be8cc774d3d6",
   "metadata": {},
   "outputs": [
    {
     "data": {
      "text/plain": [
       "[]"
      ]
     },
     "execution_count": 12,
     "metadata": {},
     "output_type": "execute_result"
    }
   ],
   "source": [
    "pc.list_indexes()"
   ]
  },
  {
   "cell_type": "markdown",
   "id": "5b7b1d21-1880-42f1-a24b-d5d132da4ed8",
   "metadata": {},
   "source": [
    "## Creating an Index"
   ]
  },
  {
   "cell_type": "code",
   "execution_count": 17,
   "id": "30d75d55-5cfa-4745-be96-c5d5fed3ec29",
   "metadata": {},
   "outputs": [],
   "source": [
    "index_name = \"sample-db\"\n",
    "dimension = 3\n",
    "metric = \"cosine\""
   ]
  },
  {
   "cell_type": "code",
   "execution_count": 20,
   "id": "27b72238-8174-4d09-a438-1d079b1ba7a4",
   "metadata": {},
   "outputs": [
    {
     "data": {
      "text/plain": [
       "{\n",
       "    \"name\": \"sample-db\",\n",
       "    \"metric\": \"cosine\",\n",
       "    \"host\": \"sample-db-pw4wyt0.svc.aped-4627-b74a.pinecone.io\",\n",
       "    \"spec\": {\n",
       "        \"serverless\": {\n",
       "            \"cloud\": \"aws\",\n",
       "            \"region\": \"us-east-1\"\n",
       "        }\n",
       "    },\n",
       "    \"status\": {\n",
       "        \"ready\": true,\n",
       "        \"state\": \"Ready\"\n",
       "    },\n",
       "    \"vector_type\": \"dense\",\n",
       "    \"dimension\": 3,\n",
       "    \"deletion_protection\": \"disabled\",\n",
       "    \"tags\": null\n",
       "}"
      ]
     },
     "execution_count": 20,
     "metadata": {},
     "output_type": "execute_result"
    }
   ],
   "source": [
    "pc.create_index(\n",
    "    name=index_name,\n",
    "    dimension=dimension,\n",
    "    metric=metric,\n",
    "    spec={\n",
    "        \"serverless\": {\n",
    "            \"cloud\": \"aws\",\n",
    "            \"region\": \"us-east-1\"\n",
    "        }\n",
    "    }\n",
    ")"
   ]
  },
  {
   "cell_type": "code",
   "execution_count": 26,
   "id": "0e654d8f-c5ce-4e6d-8d46-f985ac3f6625",
   "metadata": {},
   "outputs": [],
   "source": [
    "index_name_2 = \"sample-db-2\"\n",
    "dimension_2 = 1536\n",
    "metric_2 = \"cosine\""
   ]
  },
  {
   "cell_type": "code",
   "execution_count": 27,
   "id": "2824f86a-5c23-45c2-9baf-f3bc62647e90",
   "metadata": {},
   "outputs": [
    {
     "data": {
      "text/plain": [
       "{\n",
       "    \"name\": \"sample-db-2\",\n",
       "    \"metric\": \"cosine\",\n",
       "    \"host\": \"sample-db-2-pw4wyt0.svc.aped-4627-b74a.pinecone.io\",\n",
       "    \"spec\": {\n",
       "        \"serverless\": {\n",
       "            \"cloud\": \"aws\",\n",
       "            \"region\": \"us-east-1\"\n",
       "        }\n",
       "    },\n",
       "    \"status\": {\n",
       "        \"ready\": true,\n",
       "        \"state\": \"Ready\"\n",
       "    },\n",
       "    \"vector_type\": \"dense\",\n",
       "    \"dimension\": 1536,\n",
       "    \"deletion_protection\": \"disabled\",\n",
       "    \"tags\": null\n",
       "}"
      ]
     },
     "execution_count": 27,
     "metadata": {},
     "output_type": "execute_result"
    }
   ],
   "source": [
    "pc.create_index(\n",
    "    name=index_name_2,\n",
    "    dimension=dimension_2,\n",
    "    metric=metric_2,\n",
    "    spec={\n",
    "        \"serverless\": {\n",
    "            \"cloud\": \"aws\",\n",
    "            \"region\": \"us-east-1\"\n",
    "        }\n",
    "    }\n",
    ")"
   ]
  },
  {
   "cell_type": "code",
   "execution_count": 28,
   "id": "06fe65cc-44da-4742-b1fe-1b3861399a2c",
   "metadata": {},
   "outputs": [
    {
     "data": {
      "text/plain": [
       "[\n",
       "    {\n",
       "        \"name\": \"sample-db\",\n",
       "        \"metric\": \"cosine\",\n",
       "        \"host\": \"sample-db-pw4wyt0.svc.aped-4627-b74a.pinecone.io\",\n",
       "        \"spec\": {\n",
       "            \"serverless\": {\n",
       "                \"cloud\": \"aws\",\n",
       "                \"region\": \"us-east-1\"\n",
       "            }\n",
       "        },\n",
       "        \"status\": {\n",
       "            \"ready\": true,\n",
       "            \"state\": \"Ready\"\n",
       "        },\n",
       "        \"vector_type\": \"dense\",\n",
       "        \"dimension\": 3,\n",
       "        \"deletion_protection\": \"disabled\",\n",
       "        \"tags\": null\n",
       "    },\n",
       "    {\n",
       "        \"name\": \"sample-db-2\",\n",
       "        \"metric\": \"cosine\",\n",
       "        \"host\": \"sample-db-2-pw4wyt0.svc.aped-4627-b74a.pinecone.io\",\n",
       "        \"spec\": {\n",
       "            \"serverless\": {\n",
       "                \"cloud\": \"aws\",\n",
       "                \"region\": \"us-east-1\"\n",
       "            }\n",
       "        },\n",
       "        \"status\": {\n",
       "            \"ready\": true,\n",
       "            \"state\": \"Ready\"\n",
       "        },\n",
       "        \"vector_type\": \"dense\",\n",
       "        \"dimension\": 1536,\n",
       "        \"deletion_protection\": \"disabled\",\n",
       "        \"tags\": null\n",
       "    }\n",
       "]"
      ]
     },
     "execution_count": 28,
     "metadata": {},
     "output_type": "execute_result"
    }
   ],
   "source": [
    "pc.list_indexes()"
   ]
  },
  {
   "cell_type": "markdown",
   "id": "81073de7-4391-4b02-8fca-31b58a014a3d",
   "metadata": {},
   "source": [
    "## Upserting data to Pinecone DB"
   ]
  },
  {
   "cell_type": "code",
   "execution_count": 29,
   "id": "e63013b8-188a-42d4-a617-eb86360862a4",
   "metadata": {},
   "outputs": [
    {
     "data": {
      "text/plain": [
       "{'upserted_count': 4}"
      ]
     },
     "execution_count": 29,
     "metadata": {},
     "output_type": "execute_result"
    }
   ],
   "source": [
    "index = pc.Index(name = index_name)\n",
    "\n",
    "vectors = [\n",
    "    (\"dog\",     [0.4, 0.2, 0.9]),\n",
    "    (\"cat\",     [0.3, 0.1, 0.8]),\n",
    "    (\"car\",     [0.9, 0.8, 0.1]),\n",
    "    (\"apple\",   [0.1, 0.9, 0.2])\n",
    "]\n",
    "\n",
    "index.upsert(vectors)"
   ]
  },
  {
   "cell_type": "code",
   "execution_count": 41,
   "id": "2c519479-eca5-404e-849d-39466b13a4b0",
   "metadata": {},
   "outputs": [
    {
     "data": {
      "application/vnd.jupyter.widget-view+json": {
       "model_id": "e55675ecd5ea439c8b5eb99c87c0fc9b",
       "version_major": 2,
       "version_minor": 0
      },
      "text/plain": [
       "Resolving data files:   0%|          | 0/27468 [00:00<?, ?it/s]"
      ]
     },
     "metadata": {},
     "output_type": "display_data"
    }
   ],
   "source": [
    "fw = load_dataset(\n",
    "    \"HuggingFaceFW/fineweb\",\n",
    "    name=\"sample-10BT\",\n",
    "    split=\"train\",\n",
    "    streaming=True\n",
    ")"
   ]
  },
  {
   "cell_type": "markdown",
   "id": "87880ee9-f67e-4873-97f7-9b5dc7610b2d",
   "metadata": {},
   "source": [
    "| Part                          | Meaning                                                                                                          |\n",
    "| ----------------------------- | ----------------------------------------------------------------------------------------------------------------------- |\n",
    "| **`load_dataset`**            | A function that loads data from Hugging Face.                                                                           |\n",
    "| **`\"HuggingFaceFW/fineweb\"`** | The name of the dataset you want (called *FineWeb*, made by *HuggingFaceFW*).                                           |\n",
    "| **`name=\"sample-10BT\"`**      | Which version of the dataset — here, the *10 billion token sample* (a smaller part of the huge FineWeb dataset).        |\n",
    "| **`split=\"train\"`**           | Which section of the data — here, the *training* part.                                                                  |\n",
    "| **`streaming=True`**          | Important! It doesn’t download the whole dataset; it loads small pieces as you use it (so it saves RAM and disk space). |\n",
    "| **`fw = ...`**                | You’re saving the loaded dataset in a variable called `fw`.                                                             |\n",
    "\n",
    "---\n",
    "\n",
    "#### In plain English:\n",
    "\n",
    "This line means:\n",
    "\n",
    "> “Load the FineWeb 10-billion-token training dataset from Hugging Face, but don’t download it all — just stream it piece by piece as I need it.”\n",
    "\n",
    "---"
   ]
  },
  {
   "cell_type": "code",
   "execution_count": 38,
   "id": "7944acfd-e136-4b7b-9a08-9e5626a6e336",
   "metadata": {},
   "outputs": [
    {
     "data": {
      "text/plain": [
       "IterableDataset({\n",
       "    features: ['text', 'id', 'dump', 'url', 'date', 'file_path', 'language', 'language_score', 'token_count'],\n",
       "    num_shards: 15\n",
       "})"
      ]
     },
     "execution_count": 38,
     "metadata": {},
     "output_type": "execute_result"
    }
   ],
   "source": [
    "fw"
   ]
  },
  {
   "cell_type": "code",
   "execution_count": 39,
   "id": "c59399da-33a9-46a2-97dd-f5b710b2b8ae",
   "metadata": {},
   "outputs": [
    {
     "data": {
      "text/plain": [
       "{'text': Value(dtype='string', id=None),\n",
       " 'id': Value(dtype='string', id=None),\n",
       " 'dump': Value(dtype='string', id=None),\n",
       " 'url': Value(dtype='string', id=None),\n",
       " 'date': Value(dtype='string', id=None),\n",
       " 'file_path': Value(dtype='string', id=None),\n",
       " 'language': Value(dtype='string', id=None),\n",
       " 'language_score': Value(dtype='float64', id=None),\n",
       " 'token_count': Value(dtype='int64', id=None)}"
      ]
     },
     "execution_count": 39,
     "metadata": {},
     "output_type": "execute_result"
    }
   ],
   "source": [
    "fw.features"
   ]
  },
  {
   "cell_type": "code",
   "execution_count": 42,
   "id": "f5723ad5-0b44-4a5b-b86b-63c443e71876",
   "metadata": {},
   "outputs": [],
   "source": [
    "model = SentenceTransformer(\"all-MiniLM-L6-v2\")"
   ]
  },
  {
   "cell_type": "code",
   "execution_count": 43,
   "id": "ac9f185d-85cc-40e9-825e-8329c90b7ff4",
   "metadata": {},
   "outputs": [
    {
     "data": {
      "text/plain": [
       "{\n",
       "    \"name\": \"text\",\n",
       "    \"metric\": \"cosine\",\n",
       "    \"host\": \"text-pw4wyt0.svc.aped-4627-b74a.pinecone.io\",\n",
       "    \"spec\": {\n",
       "        \"serverless\": {\n",
       "            \"cloud\": \"aws\",\n",
       "            \"region\": \"us-east-1\"\n",
       "        }\n",
       "    },\n",
       "    \"status\": {\n",
       "        \"ready\": true,\n",
       "        \"state\": \"Ready\"\n",
       "    },\n",
       "    \"vector_type\": \"dense\",\n",
       "    \"dimension\": 384,\n",
       "    \"deletion_protection\": \"disabled\",\n",
       "    \"tags\": null\n",
       "}"
      ]
     },
     "execution_count": 43,
     "metadata": {},
     "output_type": "execute_result"
    }
   ],
   "source": [
    "pc.create_index(\n",
    "    name=\"text\",\n",
    "    dimension=model.get_sentence_embedding_dimension(),\n",
    "    metric=\"cosine\",\n",
    "    spec=ServerlessSpec(\n",
    "        cloud='aws',\n",
    "        region='us-east-1'\n",
    "    )\n",
    ")"
   ]
  },
  {
   "cell_type": "code",
   "execution_count": 44,
   "id": "b2485b71-c973-4c69-bea5-cc95fce95998",
   "metadata": {},
   "outputs": [],
   "source": [
    "index = pc.Index(name = \"text\")"
   ]
  },
  {
   "cell_type": "code",
   "execution_count": 45,
   "id": "06ec6c9a-f524-4657-b173-fd67d756d09f",
   "metadata": {},
   "outputs": [
    {
     "name": "stdout",
     "output_type": "stream",
     "text": [
      "Subset of data upserted to Pinecone index.\n"
     ]
    }
   ],
   "source": [
    "# Define the number of items you want to process (subset size)\n",
    "subset_size = 10000  # We'll only process 10,000 items from the streamed dataset\n",
    "                     # (so we don’t overload memory or API limits)\n",
    "\n",
    "# Create a list to hold all the vectors we’ll upload (upsert) to Pinecone\n",
    "vectors_to_upsert = []\n",
    "\n",
    "# Go through the dataset (fw) one item at a time\n",
    "for i, item in enumerate(fw):\n",
    "    # Stop after reaching the subset size (10,000)\n",
    "    if i >= subset_size:\n",
    "        break\n",
    "\n",
    "    # Extract the text from the dataset item\n",
    "    text = item['text']\n",
    "\n",
    "    # Each item should have a unique ID (convert it to string)\n",
    "    unique_id = str(item['id'])\n",
    "\n",
    "    # Extract language info (optional, depends on dataset fields)\n",
    "    language = item['language']\n",
    "\n",
    "    # Convert the text into an embedding (a list of numbers)\n",
    "    # The model outputs a vector that represents the meaning of the text\n",
    "    embedding = model.encode(text, show_progress_bar=False).tolist()\n",
    "\n",
    "    # Add extra info as metadata (can help for filtering later)\n",
    "    metadata = {'language': language}\n",
    "\n",
    "    # Save a tuple of (id, vector, metadata) to the list\n",
    "    vectors_to_upsert.append((unique_id, embedding, metadata))\n",
    "\n",
    "# -------------------------------\n",
    "# Now we upload all vectors to Pinecone in batches\n",
    "# (to avoid sending too much data at once)\n",
    "# -------------------------------\n",
    "\n",
    "batch_size = 1000  # Upload 1,000 vectors per request\n",
    "\n",
    "# Loop through the collected data in groups of 1,000\n",
    "for i in range(0, len(vectors_to_upsert), batch_size):\n",
    "    # Pick the current batch\n",
    "    batch = vectors_to_upsert[i:i + batch_size]\n",
    "\n",
    "    # Send the batch to Pinecone (upsert = insert or update)\n",
    "    index.upsert(vectors=batch)\n",
    "\n",
    "print(\"Subset of data upserted to Pinecone index.\")"
   ]
  }
 ],
 "metadata": {
  "kernelspec": {
   "display_name": "Python (llms_course_env)",
   "language": "python",
   "name": "llms_course_env"
  },
  "language_info": {
   "codemirror_mode": {
    "name": "ipython",
    "version": 3
   },
   "file_extension": ".py",
   "mimetype": "text/x-python",
   "name": "python",
   "nbconvert_exporter": "python",
   "pygments_lexer": "ipython3",
   "version": "3.11.13"
  }
 },
 "nbformat": 4,
 "nbformat_minor": 5
}
